{
  "nbformat": 4,
  "nbformat_minor": 0,
  "metadata": {
    "colab": {
      "provenance": [],
      "authorship_tag": "ABX9TyPZ8rBvNao3ZnkgElPx71GT",
      "include_colab_link": true
    },
    "kernelspec": {
      "name": "python3",
      "display_name": "Python 3"
    },
    "language_info": {
      "name": "python"
    }
  },
  "cells": [
    {
      "cell_type": "markdown",
      "metadata": {
        "id": "view-in-github",
        "colab_type": "text"
      },
      "source": [
        "<a href=\"https://colab.research.google.com/github/sunkingbms/zendeskUsers/blob/main/Telerivet_Kenya_Error_Log.ipynb\" target=\"_parent\"><img src=\"https://colab.research.google.com/assets/colab-badge.svg\" alt=\"Open In Colab\"/></a>"
      ]
    },
    {
      "cell_type": "code",
      "execution_count": null,
      "metadata": {
        "id": "jocTOJ0BYRCW"
      },
      "outputs": [],
      "source": [
        "import datetime\n",
        "import time\n",
        "import telerivet\n",
        "\n",
        "def get_failed_messages(API_KEY: str, ken_project_id: str, delay: int = 6) -> list:\n",
        "    \"\"\"\n",
        "    Retrieve logs with a fail status and return an array of all the errors from the current day\n",
        "    \"\"\"\n",
        "    messages = []\n",
        "    today = datetime.date.today()\n",
        "\n",
        "    start_of_day = int(datetime.datetime.combine(today, datetime.time.min).timestamp())\n",
        "    end_of_day = int(datetime.datetime.combine(today, datetime.time.max).timestamp())\n",
        "\n",
        "    tr = telerivet.API(API_KEY)\n",
        "    project = tr.initProjectById(ken_project_id)\n",
        "\n",
        "    try:\n",
        "        cursor = project.queryMessages(\n",
        "            direction=\"outgoing\",\n",
        "            message_type=\"sms\",\n",
        "            status=\"failed\",\n",
        "            time_created={\"min\": start_of_day, \"max\": end_of_day}\n",
        "        )\n",
        "\n",
        "        for message in cursor.all():\n",
        "            messages.append({\n",
        "                \"status\": message.status,\n",
        "                \"error log\": message.error_message,\n",
        "                \"from number\": message.from_number,\n",
        "                \"to number\": message.to_number,\n",
        "                \"time_sent\": datetime.datetime.utcfromtimestamp(message.time_sent).strftime('%Y-%m-%d %H:%M:%S')\n",
        "            })\n",
        "\n",
        "    except telerivet.APIException as e:\n",
        "        print(f\"Error occurred: {e}\")\n",
        "        time.sleep(delay)\n",
        "\n",
        "    return messages\n",
        "\n",
        "API_KEY = \"w_n6I_mg7AINI7n2i3ejMHShsCPYVfevEvqo\"\n",
        "KEN_PROJECT_ID = \"PJfea0e3ae2d40f54d\""
      ]
    },
    {
      "cell_type": "code",
      "source": [
        "def error_log_occurrence(data: list) -> dict:\n",
        "    \"\"\"\n",
        "    Analyze error logs and return occurrence count of each error type.\n",
        "    \"\"\"\n",
        "    try:\n",
        "        if not data:\n",
        "            print(\"Empty array passed\")\n",
        "            return {}\n",
        "        error_log: dict = {}\n",
        "        for error in data:\n",
        "            error_message = error[\"error log\"]\n",
        "            error_log[error_message] = error_log.get(error_message, 0) + 1\n",
        "        return error_log\n",
        "    except Exception as e:\n",
        "        print(f\"Error occurred: {e}\")\n",
        "        return{}\n",
        "\n",
        "failed_messages = get_failed_messages(API_KEY, KEN_PROJECT_ID)\n",
        "error_counts = error_log_occurrence(failed_messages)\n",
        "print(error_counts)"
      ],
      "metadata": {
        "id": "Wfv1s4G6a-aR"
      },
      "execution_count": null,
      "outputs": []
    }
  ]
}